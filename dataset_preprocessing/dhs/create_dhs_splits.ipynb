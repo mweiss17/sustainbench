{
 "cells": [
  {
   "cell_type": "markdown",
   "id": "c218398b-243b-4999-b02c-f22db28cb3b4",
   "metadata": {},
   "source": [
    "This notebook generates the train/val/test splits for the DHS survey-based datasets included in SustainBench."
   ]
  },
  {
   "cell_type": "code",
   "execution_count": null,
   "id": "e99ae7d4-047e-4da8-b48a-9fe14fc5a9bf",
   "metadata": {},
   "outputs": [],
   "source": [
    "import copy\n",
    "import os\n",
    "\n",
    "import numpy as np\n",
    "import pandas as pd"
   ]
  },
  {
   "cell_type": "code",
   "execution_count": null,
   "id": "8275d7ae-d455-4b8f-9fb9-cba16c5ab6e4",
   "metadata": {},
   "outputs": [],
   "source": [
    "df = pd.read_csv('output_labels/dhs_final_labels.csv')\n",
    "display(df.head())\n",
    "\n",
    "# get DHS clusters CSV from Yeh et al. (2020, Nature Communications)\n",
    "df2020 = pd.read_csv('https://github.com/chrisyeh96/africa_poverty_clean/raw/main/data/dhs_clusters.csv')\n",
    "display(df2020.head())\n",
    "\n",
    "dhs_countries_api = \"http://api.dhsprogram.com/rest/dhs/countries?returnFields=CountryName,DHS_CountryCode,ISO2_countryCode,ISO3_countryCode&f=csv\"\n",
    "dhs_countries_crosswalk = pd.read_csv(dhs_countries_api)\n",
    "display(dhs_countries_crosswalk.head())"
   ]
  },
  {
   "cell_type": "code",
   "execution_count": null,
   "id": "f0fd68ae-080b-450b-bbe8-049ef31a7d98",
   "metadata": {},
   "outputs": [],
   "source": [
    "for x in [df, df2020]:\n",
    "    for col in ['lat', 'lon']:\n",
    "        x[col + '32'] = x[col].astype(np.float32)"
   ]
  },
  {
   "cell_type": "code",
   "execution_count": null,
   "id": "2eb45932-6f98-4825-ad91-2ef337e72a96",
   "metadata": {},
   "outputs": [],
   "source": [
    "df2020['iso3'] = df2020['GID_1'].str[:3]\n",
    "df2020 = df2020.merge(\n",
    "    dhs_countries_crosswalk[['DHS_CountryCode', 'ISO3_CountryCode']],\n",
    "    left_on='iso3', right_on='ISO3_CountryCode')\n",
    "df2020.rename(columns={'DHS_CountryCode': 'dhs_cc'}, inplace=True)"
   ]
  },
  {
   "cell_type": "code",
   "execution_count": null,
   "id": "b3a218b1-6647-4478-b555-07d7e62686a4",
   "metadata": {},
   "outputs": [],
   "source": [
    "df_subset = df.loc[\n",
    "    df['cname'].isin(df2020['dhs_cc'].unique()) &\n",
    "    (df['year'] >= 2009) &\n",
    "    (df['year'] <= 2017)\n",
    "]"
   ]
  },
  {
   "cell_type": "code",
   "execution_count": null,
   "id": "465398ff-51e2-432f-ba8b-2c06d7932f92",
   "metadata": {},
   "outputs": [],
   "source": [
    "merged = df_subset.merge(df2020, on=['lat32', 'lon32'], how='inner', validate='1:1')\n",
    "merged"
   ]
  },
  {
   "cell_type": "code",
   "execution_count": null,
   "id": "9aad6d5e-0b68-455b-bad5-5aa66541e0dc",
   "metadata": {},
   "outputs": [],
   "source": [
    "import matplotlib.pyplot as plt"
   ]
  },
  {
   "cell_type": "code",
   "execution_count": null,
   "id": "ea676732-2524-49a3-84e7-a3260ffac8d7",
   "metadata": {},
   "outputs": [],
   "source": [
    "merged[merged['asset_index'].isna()]"
   ]
  },
  {
   "cell_type": "code",
   "execution_count": null,
   "id": "8417f915-9178-4dc5-a844-1c6ac23e5990",
   "metadata": {},
   "outputs": [],
   "source": [
    "merged[merged['households'] < 5]"
   ]
  },
  {
   "cell_type": "code",
   "execution_count": null,
   "id": "57902d01-9e32-4596-9e0e-d55b0a958a5c",
   "metadata": {},
   "outputs": [],
   "source": [
    "merged_notna = merged[merged['asset_index'].notna()]"
   ]
  },
  {
   "cell_type": "code",
   "execution_count": null,
   "id": "46a16e2a-60ec-49f7-9ed6-5f3d5b2e8bd7",
   "metadata": {},
   "outputs": [],
   "source": [
    "import scipy.stats\n",
    "r = scipy.stats.pearsonr(merged_notna['asset_index'], merged_notna['wealthpooled'])[0]\n",
    "print('r:', r, 'r^2:', r**2)"
   ]
  },
  {
   "cell_type": "code",
   "execution_count": null,
   "id": "63eae870-1bea-46ef-96ba-fb174afb8e4c",
   "metadata": {},
   "outputs": [],
   "source": [
    "fig, ax = plt.subplots(1, 1)\n",
    "ax.scatter(merged_notna['asset_index'], merged_notna['wealthpooled'], s=1)\n",
    "ax.set_xlabel('SustainBench asset index')\n",
    "ax.set_ylabel('NatComms asset index')"
   ]
  },
  {
   "cell_type": "code",
   "execution_count": null,
   "id": "ecacd4ea-c4a5-42a2-a801-548e6bb8083b",
   "metadata": {},
   "outputs": [],
   "source": [
    "FOLDS_2020 = {\n",
    "    'A': ['angola', 'cote_d_ivoire', 'ethiopia', 'mali', 'rwanda'],\n",
    "    'B': ['benin', 'burkina_faso', 'guinea', 'sierra_leone', 'tanzania'],\n",
    "    'C': ['cameroon', 'ghana', 'malawi', 'zimbabwe'],\n",
    "    'D': ['democratic_republic_of_congo', 'mozambique', 'nigeria', 'togo', 'uganda'],\n",
    "    'E': ['kenya', 'lesotho', 'senegal', 'zambia'],\n",
    "}"
   ]
  },
  {
   "cell_type": "code",
   "execution_count": null,
   "id": "138bda02-1bdb-44cd-9116-80046515a5ef",
   "metadata": {},
   "outputs": [],
   "source": [
    "cname2020_to_dhscc = dict(df2020.groupby(['country', 'dhs_cc']).groups.keys())\n",
    "display(cname2020_to_dhscc)"
   ]
  },
  {
   "cell_type": "code",
   "execution_count": null,
   "id": "ea84b616-ee5c-49c9-8146-47bd225ead21",
   "metadata": {},
   "outputs": [],
   "source": [
    "FOLDS_2020_dhscc = {\n",
    "    f: [cname2020_to_dhscc[c] for c in countries]\n",
    "    for f, countries in FOLDS_2020.items()\n",
    "}\n",
    "display(FOLDS_2020_dhscc)"
   ]
  },
  {
   "cell_type": "code",
   "execution_count": null,
   "id": "07cfa9f7-d4ec-4f26-90e0-2d071699367c",
   "metadata": {},
   "outputs": [],
   "source": [
    "# get a sense of existing fold sizes\n",
    "FOLDS_2020_sizes = {\n",
    "    f: df['cname'].isin(dhscc_codes).sum()\n",
    "    for f, dhscc_codes in FOLDS_2020_dhscc.items()\n",
    "}\n",
    "print(FOLDS_2020_sizes)"
   ]
  },
  {
   "cell_type": "code",
   "execution_count": null,
   "id": "af9c1d7d-81f1-432b-b1aa-98e905afe484",
   "metadata": {},
   "outputs": [],
   "source": [
    "FOLDS = copy.deepcopy(FOLDS_2020_dhscc)\n",
    "FOLDS_sizes = copy.deepcopy(FOLDS_2020_sizes)"
   ]
  },
  {
   "cell_type": "code",
   "execution_count": null,
   "id": "09402e59-784e-4382-840c-1cf45178f60d",
   "metadata": {},
   "outputs": [],
   "source": [
    "remaining_dhscc = set(df['cname'].unique())\n",
    "for cc_list in FOLDS_2020_dhscc.values():\n",
    "    remaining_dhscc -= set(cc_list)\n",
    "print(remaining_dhscc)"
   ]
  },
  {
   "cell_type": "code",
   "execution_count": null,
   "id": "48892fd2-648d-4840-9cb9-1c3a25a800fe",
   "metadata": {},
   "outputs": [],
   "source": [
    "sizes = df.groupby('cname').size()\n",
    "sizes.loc[sorted(remaining_dhscc)].head()"
   ]
  },
  {
   "cell_type": "code",
   "execution_count": null,
   "id": "9e4c6142-fddf-4872-9273-d65a120ec68d",
   "metadata": {},
   "outputs": [],
   "source": [
    "while len(remaining_dhscc) > 0:\n",
    "    top_cc = sizes.loc[list(remaining_dhscc)].idxmax()\n",
    "    top_size = sizes.loc[top_cc]\n",
    "    smallest_fold = min(FOLDS_sizes, key=FOLDS_sizes.get)\n",
    "    FOLDS[smallest_fold].append(top_cc)\n",
    "    FOLDS_sizes[smallest_fold] += top_size\n",
    "    remaining_dhscc.remove(top_cc)"
   ]
  },
  {
   "cell_type": "code",
   "execution_count": null,
   "id": "cad7ce99-f2e8-4391-abed-aa876f776260",
   "metadata": {},
   "outputs": [],
   "source": [
    "print(FOLDS)"
   ]
  },
  {
   "cell_type": "code",
   "execution_count": null,
   "id": "7d924fc8-7566-4ad0-a3d1-6732232ff2fc",
   "metadata": {},
   "outputs": [],
   "source": [
    "print(FOLDS_sizes)"
   ]
  },
  {
   "cell_type": "code",
   "execution_count": null,
   "id": "890d53ef-a0ea-4134-8a85-e8db53a528bc",
   "metadata": {},
   "outputs": [],
   "source": [
    "SPLITS = {\n",
    "    'train': sorted(FOLDS['C'] + FOLDS['D'] + FOLDS['E']),\n",
    "    'val':   sorted(FOLDS['B']),\n",
    "    'test':  sorted(FOLDS['A'])\n",
    "}\n",
    "print(SPLITS)"
   ]
  },
  {
   "cell_type": "code",
   "execution_count": null,
   "id": "86dbd1e3-b481-4996-bde5-f467725302a4",
   "metadata": {},
   "outputs": [],
   "source": [
    "for label in ['asset_index', 'under5_mort', 'women_bmi', 'women_edu', 'water_index', 'sanitation_index']:\n",
    "    print(f'{label:17s}', {\n",
    "        split: len(df[df[label].notna() & df['cname'].isin(SPLITS[split])])\n",
    "        for split in ['train', 'val', 'test']\n",
    "    })"
   ]
  },
  {
   "cell_type": "code",
   "execution_count": null,
   "id": "5f376289-d85a-4769-ade4-ae7834ca4d81",
   "metadata": {},
   "outputs": [],
   "source": [
    "# calculate size of each split in %\n",
    "for label in ['asset_index', 'under5_mort', 'women_bmi', 'women_edu', 'water_index', 'sanitation_index']:\n",
    "    print(f'{label:17s}', {\n",
    "        split: round(len(df[df[label].notna() & df['cname'].isin(SPLITS[split])]) / len(df[df[label].notna()]), 2)\n",
    "        for split in ['train', 'val', 'test']\n",
    "    })"
   ]
  }
 ],
 "metadata": {
  "kernelspec": {
   "display_name": "Python [conda env:sustainbench_create] *",
   "language": "python",
   "name": "conda-env-sustainbench_create-py"
  },
  "language_info": {
   "codemirror_mode": {
    "name": "ipython",
    "version": 3
   },
   "file_extension": ".py",
   "mimetype": "text/x-python",
   "name": "python",
   "nbconvert_exporter": "python",
   "pygments_lexer": "ipython3",
   "version": "3.9.6"
  }
 },
 "nbformat": 4,
 "nbformat_minor": 5
}
