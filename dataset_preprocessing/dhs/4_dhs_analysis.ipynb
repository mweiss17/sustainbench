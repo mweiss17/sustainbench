{
 "cells": [
  {
   "cell_type": "markdown",
   "id": "a5d32fb8-f128-479a-8f81-e1e56b3c1ea7",
   "metadata": {},
   "source": [
    "## DHS Data Analysis\n",
    "\n",
    "This notebook calculates label statistics for the DHS survey labels and generates a CSV file of SDG coverage by country.\n",
    "\n",
    "## Pre-requisites\n",
    "\n",
    "Go through the [`3_process_tfrecords.ipynb`](./3_process_tfrecords.ipynb) notebook."
   ]
  },
  {
   "cell_type": "markdown",
   "id": "ed5e822b-d997-41b9-83a8-f3cf0b439777",
   "metadata": {},
   "source": [
    "## Imports and Constants"
   ]
  },
  {
   "cell_type": "code",
   "execution_count": null,
   "id": "00acaac8-429d-4f9f-a3c6-9d3eb8baa8a5",
   "metadata": {},
   "outputs": [],
   "source": [
    "%load_ext autoreload\n",
    "%autoreload 2"
   ]
  },
  {
   "cell_type": "code",
   "execution_count": null,
   "id": "4e3db0e7-9986-46c1-a71f-c6c9d024e89b",
   "metadata": {},
   "outputs": [],
   "source": [
    "import numpy as np\n",
    "import pandas as pd"
   ]
  },
  {
   "cell_type": "code",
   "execution_count": null,
   "id": "fd4d6ba4-f0ec-45c1-8813-534ed700ec2e",
   "metadata": {},
   "outputs": [],
   "source": [
    "DHS_FINAL_CSV_PATH = 'output_labels/dhs_final_labels.csv'"
   ]
  },
  {
   "cell_type": "markdown",
   "id": "d46c804e-baa8-48e7-be4f-d2452ce350d9",
   "metadata": {},
   "source": [
    "## DHS Label Statistics"
   ]
  },
  {
   "cell_type": "code",
   "execution_count": null,
   "id": "e67e6374-f4c0-4122-9519-3931481c656e",
   "metadata": {},
   "outputs": [],
   "source": [
    "# load final DHS CSV\n",
    "label_cols = ['asset_index', 'water_index', 'sanitation_index', 'under5_mort', 'women_edu', 'women_bmi']\n",
    "obs_cols = ['n_asset', 'n_water', 'n_sanitation', 'n_under5_mort', 'n_women_edu', 'n_women_bmi']\n",
    "dtypes = {label: np.float64 for label in label_cols} | {n: 'Int64' for n in obs_cols}\n",
    "\n",
    "dhs_final = pd.read_csv(DHS_FINAL_CSV_PATH, dtype=dtypes)\n",
    "dhs_final.set_index('DHSID_EA', verify_integrity=True, inplace=True)\n",
    "dhs_final['survey'] = dhs_final.index.str[:10]\n",
    "display(dhs_final.head())"
   ]
  },
  {
   "cell_type": "code",
   "execution_count": null,
   "id": "b3dd7202-7dda-4b5b-9cda-32135c39e7eb",
   "metadata": {},
   "outputs": [],
   "source": [
    "# calculate # of observations, clusters, and countries per label\n",
    "label_stats = pd.DataFrame({\n",
    "    '# of observations':\n",
    "        dhs_final[obs_cols].sum().rename(dict(zip(obs_cols, label_cols))),\n",
    "    '# clusters':\n",
    "        dhs_final[label_cols].notna().sum(),\n",
    "    '# countries': pd.Series({\n",
    "        label: dhs_final.loc[dhs_final[label].notna(), 'cname'].nunique()\n",
    "        for label in label_cols\n",
    "    })\n",
    "})\n",
    "display(label_stats)\n",
    "print(label_stats)"
   ]
  },
  {
   "cell_type": "code",
   "execution_count": null,
   "id": "1afcc52d-9076-45c7-a20f-d46f96b32bba",
   "metadata": {},
   "outputs": [],
   "source": [
    "api_url = 'https://api.dhsprogram.com/rest/dhs/surveys?returnFields=SurveyId,SurveyType,CountryName&f=csv'\n",
    "all_surveys = pd.read_csv(api_url)\n",
    "assert len(all_surveys) == all_surveys['SurveyId'].nunique()\n",
    "all_surveys['cname'] = all_surveys['SurveyId'].str[:2]\n",
    "all_surveys['year'] = all_surveys['SurveyId'].str[2:6].astype(int)\n",
    "display(all_surveys.head())"
   ]
  },
  {
   "cell_type": "code",
   "execution_count": null,
   "id": "5f98c2eb-2cb2-49f5-96ae-d97d8e1ff4f8",
   "metadata": {},
   "outputs": [],
   "source": [
    "included_surveys = dhs_final[['cname', 'year', 'survey']].drop_duplicates().reset_index(drop=True)\n",
    "merged = included_surveys.merge(all_surveys, how='left', on=['cname', 'year'], validate='1:m')\n",
    "print('# of surveys:', merged['survey'].nunique())"
   ]
  },
  {
   "cell_type": "code",
   "execution_count": null,
   "id": "c7f9b724-4081-463a-bc08-b63770094399",
   "metadata": {},
   "outputs": [],
   "source": [
    "print(merged.sort_values('year').groupby(['cname', 'CountryName']).agg(list)['SurveyId'].to_csv())"
   ]
  },
  {
   "cell_type": "code",
   "execution_count": null,
   "id": "3875972c-1993-417c-b425-df6f1ba108fe",
   "metadata": {},
   "outputs": [],
   "source": [
    "# Some countries may have had multiple surveys in the same year, such as\n",
    "# Uganda 2011, which had both UG2011DHS and UG2011AIS. The DHSID_EA column\n",
    "# identifies the two surveys as:\n",
    "# - UG2011DHS = UG-2011-6#\n",
    "#   - the '#' indicates this is a numerically-versioned survey. On the DHS\n",
    "#     website (https://dhsprogram.com/data/dataset/Uganda_Standard-DHS_2011.cfm)\n",
    "#     we see that UG2011DHS files are named UG{DD}61{FF}, where \"61\" indicates\n",
    "#     DHS Round 6, Version 1. This is what we mean by a \"numerically-versioned\"\n",
    "#     survey.\n",
    "# - UG2011AIS = UG-2011-6Z\n",
    "#   - the 'Z' indicates this is a alphabetically-versioned survey. On the DHS\n",
    "#     website (https://dhsprogram.com/data/dataset/Uganda_Standard-AIS_2011.cfm)\n",
    "#     we see that UG2011AIS files are named UG{DD}6A{FF}, where \"6A\" indicates\n",
    "#     DHS Round 6, Version A. This is what we mean by an \"alphabetically-versioned\"\n",
    "#     survey.\n",
    "merged.groupby(['cname', 'year']).filter(lambda df: len(df) > 1)"
   ]
  },
  {
   "cell_type": "code",
   "execution_count": null,
   "id": "bc746e68-6175-4516-8f99-3d46b1facb7e",
   "metadata": {},
   "outputs": [],
   "source": [
    "# number of processed npzs\n",
    "num_processed = !find dhs_npzs -type f | wc -l\n",
    "num_processed = int(num_processed[0])\n",
    "\n",
    "# number of final clusters to include\n",
    "num_final = len(dhs_final)\n",
    "\n",
    "print('num processed npzs:', num_processed)\n",
    "print('num final clusters:', num_final)\n",
    "print('diff (should match \"num npzs missing labels\" from log printout):', num_processed - num_final)"
   ]
  },
  {
   "cell_type": "markdown",
   "id": "02aebf1f-22db-445a-8723-bc736e70c5cf",
   "metadata": {},
   "source": [
    "## SDG Coverage by Country\n",
    "\n",
    "Outputs a CSV that shows which SDG is covered in which country, based on DHS surveys\n",
    "\n",
    "|  | DHS_CountryCode | ISO2_CountryCode | ISO3_CountryCode | CountryName  | 1_pov | 3_health | 4_edu | 6_water\n",
    "|--|-----------------|------------------|------------------|--------------|-------|----------|-------|----------\n",
    "|0 | AL              | AL               | ALB              | Albania      | True  | True     | True  | True\n",
    "|1 | AM              | AM               | ARM              | Armenia      | True  | True     | True  | True\n",
    "|2 | AO              | AO               | AGO              | Angola       | True  | True     | True  | True\n",
    "|3 | BD              | BD               | BGD              | Bangladesh   | True  | True     | True  | True\n",
    "|4 | BF              | BF               | BFA              | Burkina Faso | True  | True     | True  | True"
   ]
  },
  {
   "cell_type": "code",
   "execution_count": null,
   "id": "5e26d330-1360-471c-a454-5f1fcac35f42",
   "metadata": {},
   "outputs": [],
   "source": [
    "df = pd.read_csv(DHS_FINAL_CSV_PATH)\n",
    "display(df.head())\n",
    "\n",
    "sdgs = pd.DataFrame(\n",
    "    data=False, dtype=bool,\n",
    "    index=pd.Index(df['cname'].unique(), name='dhs_cc'),\n",
    "    columns=['1_pov', '3_health', '4_edu', '6_waterb'])\n",
    "display(sdgs.head())"
   ]
  },
  {
   "cell_type": "code",
   "execution_count": null,
   "id": "91dc280b-ebc3-4a47-bb46-f6c9e827d00d",
   "metadata": {},
   "outputs": [],
   "source": [
    "pov_countries = df.loc[df['asset_index'].notna(), 'cname'].unique()\n",
    "health_countries = df.loc[df['women_bmi'].notna() | df['under5_mort'].notna(), 'cname'].unique()\n",
    "edu_countries = df.loc[df['women_edu'].notna(), 'cname'].unique()\n",
    "water_countries = df.loc[df['water_index'].notna() | df['sanitation_index'].notna(), 'cname'].unique()\n",
    "\n",
    "sdgs.loc[pov_countries, '1_pov'] = True\n",
    "sdgs.loc[health_countries, '3_health'] = True\n",
    "sdgs.loc[edu_countries, '4_edu'] = True\n",
    "sdgs.loc[water_countries, '6_water'] = True"
   ]
  },
  {
   "cell_type": "code",
   "execution_count": null,
   "id": "0876a481-f577-4407-980f-e5533d68b574",
   "metadata": {},
   "outputs": [],
   "source": [
    "dhs_countries_api = \"http://api.dhsprogram.com/rest/dhs/countries?returnFields=CountryName,DHS_CountryCode,ISO2_countryCode,ISO3_countryCode&f=csv\"\n",
    "dhs_countries_crosswalk = pd.read_csv(dhs_countries_api)\n",
    "display(dhs_countries_crosswalk.head())"
   ]
  },
  {
   "cell_type": "code",
   "execution_count": null,
   "id": "4e9da30d-ac90-4475-a53e-b90d818d698e",
   "metadata": {},
   "outputs": [],
   "source": [
    "final = sdgs.merge(dhs_countries_crosswalk, how='inner', left_on='dhs_cc', right_on='DHS_CountryCode', validate='1:1')\n",
    "final = final[['DHS_CountryCode', 'ISO2_CountryCode', 'ISO3_CountryCode', 'CountryName', '1_pov', '3_health', '4_edu', '6_water']]\n",
    "display(final.head())"
   ]
  },
  {
   "cell_type": "code",
   "execution_count": null,
   "id": "314ad601-fa79-4874-9496-b26a5f1c0921",
   "metadata": {},
   "outputs": [],
   "source": [
    "final.to_csv('sdgs_coverage_by_country.csv', index=False)"
   ]
  }
 ],
 "metadata": {
  "kernelspec": {
   "display_name": "Python [conda env:sustainbench_create] *",
   "language": "python",
   "name": "conda-env-sustainbench_create-py"
  },
  "language_info": {
   "codemirror_mode": {
    "name": "ipython",
    "version": 3
   },
   "file_extension": ".py",
   "mimetype": "text/x-python",
   "name": "python",
   "nbconvert_exporter": "python",
   "pygments_lexer": "ipython3",
   "version": "3.9.6"
  }
 },
 "nbformat": 4,
 "nbformat_minor": 5
}
