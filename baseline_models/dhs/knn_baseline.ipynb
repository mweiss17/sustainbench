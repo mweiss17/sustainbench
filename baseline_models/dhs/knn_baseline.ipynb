{
 "cells": [
  {
   "cell_type": "code",
   "execution_count": null,
   "source": [
    "%load_ext autoreload\n",
    "%autoreload 2"
   ],
   "outputs": [],
   "metadata": {}
  },
  {
   "cell_type": "code",
   "execution_count": null,
   "source": [
    "from concurrent.futures import ThreadPoolExecutor\n",
    "import os\n",
    "\n",
    "import numpy as np\n",
    "import pandas as pd\n",
    "import sklearn\n",
    "from tqdm.auto import tqdm"
   ],
   "outputs": [],
   "metadata": {}
  },
  {
   "cell_type": "code",
   "execution_count": null,
   "source": [
    "dataset_root_dir = '../../dataset_preprocessing/dhs_lsms'"
   ],
   "outputs": [],
   "metadata": {}
  },
  {
   "cell_type": "markdown",
   "source": [],
   "metadata": {}
  },
  {
   "cell_type": "code",
   "execution_count": null,
   "source": [
    "df = pd.read_csv(os.path.join(dataset_root_dir, 'output_labels/dhs_final_labels.csv'))\n",
    "df['survey'] = df['DHSID_EA'].str[:10]\n",
    "df['cc'] = df['DHSID_EA'].str[:2]\n",
    "df['path'] = dataset_root_dir + '/dhs_npzs/' + df['survey'] + '/' + df['DHSID_EA'] + '.npz'\n",
    "path_years = df[['DHSID_EA', 'path', 'year']].apply(tuple, axis=1)\n",
    "df.set_index('DHSID_EA', verify_integrity=True, inplace=True)\n",
    "print(df['path'].iloc[0])\n",
    "display(df.head())"
   ],
   "outputs": [],
   "metadata": {}
  },
  {
   "cell_type": "code",
   "execution_count": null,
   "source": [
    "label_cols = ['asset_index', 'under5_mort', 'women_bmi', 'women_edu', 'water_index', 'sanitation_index']"
   ],
   "outputs": [],
   "metadata": {}
  },
  {
   "cell_type": "code",
   "execution_count": null,
   "source": [
    "def calculate_nl_mean(path_and_year) -> tuple[np.ndarray, np.ndarray, int]:\n",
    "    '''\n",
    "    Args\n",
    "    - path_year: tuple (path, year)\n",
    "      - path: str, path to npz file containing single entry 'x'\n",
    "        representing a (C, H, W) image\n",
    "      - year: int\n",
    "\n",
    "    Returns: (nl_mean, year)\n",
    "    '''\n",
    "    dhsid_ea, npz_path, year = path_and_year\n",
    "    img = np.load(npz_path)['x']  # shape (C, H, W)\n",
    "    nl_mean = img[-1].mean(dtype=np.float64)\n",
    "    return dhsid_ea, nl_mean, year"
   ],
   "outputs": [],
   "metadata": {}
  },
  {
   "cell_type": "code",
   "execution_count": null,
   "source": [
    "results_df = pd.DataFrame(\n",
    "    data=np.nan,\n",
    "    columns=['nl_mean', 'year'],\n",
    "    index=pd.Index(sorted(df['DHSID_EA']), name='DHSID_EA')\n",
    ")\n",
    "results_df.head()"
   ],
   "outputs": [],
   "metadata": {}
  },
  {
   "cell_type": "code",
   "execution_count": null,
   "source": [
    "with ThreadPoolExecutor(max_workers=30) as pool:\n",
    "    inputs = path_years\n",
    "    futures = pool.map(calculate_nl_mean, inputs)\n",
    "    for dhsid_ea, nl_mean, year in tqdm(futures, total=len(inputs)):\n",
    "        results_df.loc[dhsid_ea, ['nl_mean', 'year']] = (nl_mean, year)"
   ],
   "outputs": [],
   "metadata": {}
  },
  {
   "cell_type": "code",
   "execution_count": null,
   "source": [
    "results_df.to_csv('mean_nl.csv')"
   ],
   "outputs": [],
   "metadata": {}
  },
  {
   "cell_type": "code",
   "execution_count": null,
   "source": [
    "results_df['year'] = results_df['year'].astype(int)"
   ],
   "outputs": [],
   "metadata": {}
  },
  {
   "cell_type": "code",
   "execution_count": null,
   "source": [
    "SPLITS = {\n",
    "    'train': [\n",
    "        'AL', 'BD', 'CD', 'CM', 'GH', 'GU', 'HN', 'IA', 'ID', 'JO', 'KE', 'KM',\n",
    "        'LB', 'LS', 'MA', 'MB', 'MD', 'MM', 'MW', 'MZ', 'NG', 'NI', 'PE', 'PH',\n",
    "        'SN', 'TG', 'TJ', 'UG', 'ZM', 'ZW'],\n",
    "    'val': [\n",
    "        'BF', 'BJ', 'BO', 'CO', 'DR', 'GA', 'GN', 'GY', 'HT', 'NM', 'SL', 'TD',\n",
    "        'TZ'],\n",
    "    'test': [\n",
    "        'AM', 'AO', 'BU', 'CI', 'EG', 'ET', 'KH', 'KY', 'ML', 'NP', 'PK', 'RW',\n",
    "        'SZ']\n",
    "}\n",
    "SPLITS['trainval'] = SPLITS['train'] + SPLITS['val']"
   ],
   "outputs": [],
   "metadata": {}
  },
  {
   "cell_type": "code",
   "execution_count": null,
   "source": [
    "import scipy.stats\n",
    "import sklearn.neighbors"
   ],
   "outputs": [],
   "metadata": {}
  },
  {
   "cell_type": "code",
   "execution_count": null,
   "source": [
    "results_df['cc'] = results_df.index.str[:2]"
   ],
   "outputs": [],
   "metadata": {}
  },
  {
   "cell_type": "code",
   "execution_count": null,
   "source": [
    "def run(knn, label, dmsp, trainsplit='train', testsplit='test'):\n",
    "    if dmsp:\n",
    "        year_mask = (df['year'] <= 2011)\n",
    "    else:\n",
    "        year_mask = (df['year'] > 2011)\n",
    "\n",
    "    train_dhsids = df.index[year_mask & df['cc'].isin(SPLITS[trainsplit]) & df[label].notna()]\n",
    "    test_dhsids = df.index[year_mask & df['cc'].isin(SPLITS[testsplit]) & df[label].notna()]\n",
    "\n",
    "    train_X = results_df.loc[train_dhsids, 'nl_mean'].values.reshape(-1, 1)\n",
    "    train_Y = df.loc[train_dhsids, label].values\n",
    "    test_X = results_df.loc[test_dhsids, 'nl_mean'].values.reshape(-1, 1)\n",
    "    test_Y = df.loc[test_dhsids, label].values\n",
    "\n",
    "    knn.fit(train_X, train_Y)\n",
    "    preds = knn.predict(test_X)\n",
    "    return preds, test_Y"
   ],
   "outputs": [],
   "metadata": {}
  },
  {
   "cell_type": "code",
   "execution_count": null,
   "source": [
    "for label in label_cols:\n",
    "    print(f'=========== {label:15s} ============')\n",
    "    best_r2 = 0\n",
    "    best_k = None\n",
    "    for k in range(1, 21):\n",
    "        knn = sklearn.neighbors.KNeighborsRegressor(\n",
    "            n_neighbors=k, weights='uniform', algorithm='auto')\n",
    "        preds_dmsp, labels_dmsp = run(knn, label, True, 'train', 'val')\n",
    "        preds_viirs, labels_viirs = run(knn, label, False, 'train', 'val')\n",
    "        r2 = scipy.stats.pearsonr(\n",
    "            np.concatenate([preds_dmsp, preds_viirs]),\n",
    "            np.concatenate([labels_dmsp, labels_viirs])\n",
    "        )[0]**2\n",
    "        print(f'k={k:2d}, {label:15s} r^2 = {r2:.3f}')\n",
    "        if r2 > best_r2:\n",
    "            best_r2 = r2\n",
    "            best_k = k\n",
    "    knn = sklearn.neighbors.KNeighborsRegressor(\n",
    "            n_neighbors=best_k, weights='uniform', algorithm='auto')\n",
    "    preds_dmsp, labels_dmsp = run(knn, label, True, 'trainval', 'test')\n",
    "    preds_viirs, labels_viirs = run(knn, label, False, 'trainval', 'test')\n",
    "    r2 = scipy.stats.pearsonr(\n",
    "        np.concatenate([preds_dmsp, preds_viirs]),\n",
    "        np.concatenate([labels_dmsp, labels_viirs])\n",
    "    )[0]**2\n",
    "    print(f'FINAL: k={best_k:2d}, {label:15s} r^2 = {r2:.2f}')"
   ],
   "outputs": [],
   "metadata": {}
  }
 ],
 "metadata": {
  "kernelspec": {
   "display_name": "Python [conda env:sustainbench_create] *",
   "language": "python",
   "name": "conda-env-sustainbench_create-py"
  },
  "language_info": {
   "codemirror_mode": {
    "name": "ipython",
    "version": 3
   },
   "file_extension": ".py",
   "mimetype": "text/x-python",
   "name": "python",
   "nbconvert_exporter": "python",
   "pygments_lexer": "ipython3",
   "version": "3.9.6"
  }
 },
 "nbformat": 4,
 "nbformat_minor": 5
}